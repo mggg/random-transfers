{
 "cells": [
  {
   "cell_type": "code",
   "execution_count": 12,
   "metadata": {},
   "outputs": [],
   "source": [
    "import pandas as pd\n",
    "import json\n",
    "import os"
   ]
  },
  {
   "cell_type": "code",
   "execution_count": 20,
   "metadata": {},
   "outputs": [],
   "source": [
    "# cleaning cell to rename candidates for certain election years\n",
    "for year in range(2003, 2015+1, 2):\n",
    "    df = pd.read_csv(f'data/rankings/Cambridge City Council CVR {year}.xlsx - Rankings.csv')\n",
    "    df.loc[0, :].to_list()\n",
    "    mapped = df.loc[0, :].to_dict()\n",
    "    del mapped['Unnamed: 0']\n",
    "    if year in [2013, 2015]:\n",
    "        mapped = {id : cand for cand, id in mapped.items()}\n",
    "    os.makedirs('data/auxillary', exist_ok=True)\n",
    "    with open(f'data/auxillary/cand_names_{year}.json', 'w') as f:\n",
    "        json.dump(mapped, f)"
   ]
  },
  {
   "cell_type": "code",
   "execution_count": 25,
   "metadata": {},
   "outputs": [],
   "source": [
    "for year in range(2003, 2015+1, 2):\n",
    "    \n",
    "    with open(f'data/auxillary/cand_names_{year}.json') as f:\n",
    "        cand_names = json.load(f)\n",
    "\n",
    "    if year in [2009, 2017]:\n",
    "        continue\n",
    "    stv_rank = pd.read_csv(f'results_jan/fract_stv_rank_{year}.csv')\n",
    "    stv_rank['Candidate'] = stv_rank['Candidate'].map(cand_names)\n",
    "    freq_df = pd.read_csv(f'results_jan/committee_freqs_{year}.csv')\n",
    "    freq_df['Candidate'] = freq_df['Candidate'].map(cand_names)\n",
    "    freq_df.to_csv(f'results_jan/committee_freqs_{year}.csv', index=False)\n",
    "    stv_rank.to_csv(f'results_jan/fract_stv_rank_{year}.csv', index=False)"
   ]
  }
 ],
 "metadata": {
  "kernelspec": {
   "display_name": "Python 3.10.13 ('testgrounds')",
   "language": "python",
   "name": "python3"
  },
  "language_info": {
   "codemirror_mode": {
    "name": "ipython",
    "version": 3
   },
   "file_extension": ".py",
   "mimetype": "text/x-python",
   "name": "python",
   "nbconvert_exporter": "python",
   "pygments_lexer": "ipython3",
   "version": "3.10.13"
  },
  "orig_nbformat": 4,
  "vscode": {
   "interpreter": {
    "hash": "e3e9f52183b035a4ed57391daace014bbd4352e68dfa9b382ffa4c5edce0526e"
   }
  }
 },
 "nbformat": 4,
 "nbformat_minor": 2
}
